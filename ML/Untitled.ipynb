{
 "cells": [
  {
   "cell_type": "code",
   "execution_count": 10,
   "id": "ab177676",
   "metadata": {},
   "outputs": [],
   "source": [
    "from pydub import AudioSegment\n",
    "\n",
    "import librosa\n",
    "import soundfile as sf\n",
    "import os, glob, pickle\n",
    "import numpy as np"
   ]
  },
  {
   "cell_type": "code",
   "execution_count": 2,
   "id": "8bc50935",
   "metadata": {},
   "outputs": [],
   "source": [
    "stereo_audio = AudioSegment.from_file(\"media/Amused_J502JCO.wav\",format=\"wav\" , sample_width=2)"
   ]
  },
  {
   "cell_type": "code",
   "execution_count": 11,
   "id": "e952ab75",
   "metadata": {},
   "outputs": [
    {
     "name": "stderr",
     "output_type": "stream",
     "text": [
      "/home/prakriti/College/FYP/Project/Emotively/FYP-env/lib/python3.8/site-packages/sklearn/base.py:329: UserWarning: Trying to unpickle estimator DecisionTreeClassifier from version 1.0.1 when using version 1.0.2. This might lead to breaking code or invalid results. Use at your own risk. For more info please refer to:\n",
      "https://scikit-learn.org/stable/modules/model_persistence.html#security-maintainability-limitations\n",
      "  warnings.warn(\n",
      "/home/prakriti/College/FYP/Project/Emotively/FYP-env/lib/python3.8/site-packages/sklearn/base.py:329: UserWarning: Trying to unpickle estimator RandomForestClassifier from version 1.0.1 when using version 1.0.2. This might lead to breaking code or invalid results. Use at your own risk. For more info please refer to:\n",
      "https://scikit-learn.org/stable/modules/model_persistence.html#security-maintainability-limitations\n",
      "  warnings.warn(\n"
     ]
    }
   ],
   "source": [
    "model = pickle.load(open('speechemotionclassifier' , 'rb'))"
   ]
  },
  {
   "cell_type": "code",
   "execution_count": 14,
   "id": "da8dbbe4",
   "metadata": {},
   "outputs": [],
   "source": [
    "def extract_feature(file_name, mfcc, chroma, mel):\n",
    "            with sf.SoundFile(file_name) as sound_file:\n",
    "                X = sound_file.read(dtype=\"float32\")\n",
    "                sample_rate=sound_file.samplerate\n",
    "                if chroma:\n",
    "                    stft=np.abs(librosa.stft(X))\n",
    "                result=np.array([])\n",
    "                if mfcc:\n",
    "                    mfccs=np.mean(librosa.feature.mfcc(y=X, sr=sample_rate, n_mfcc=40).T, axis=0)\n",
    "                    result=np.hstack((result, mfccs))\n",
    "                if chroma:\n",
    "                    chroma=np.mean(librosa.feature.chroma_stft(S=stft, sr=sample_rate).T,axis=0)\n",
    "                    result=np.hstack((result, chroma))\n",
    "                if mel:\n",
    "                    mel=np.mean(librosa.feature.melspectrogram(X, sr=sample_rate).T,axis=0)\n",
    "                    result=np.hstack((result, mel))\n",
    "            return result"
   ]
  },
  {
   "cell_type": "code",
   "execution_count": 20,
   "id": "145a9e78",
   "metadata": {},
   "outputs": [],
   "source": [
    "mono_audios = stereo_audio.split_to_mono()\n",
    "mono_left = mono_audios[-1]\n",
    "soundfile = \"predictemotion.wav\""
   ]
  },
  {
   "cell_type": "code",
   "execution_count": 24,
   "id": "04befe74",
   "metadata": {},
   "outputs": [
    {
     "name": "stderr",
     "output_type": "stream",
     "text": [
      "/tmp/ipykernel_25142/4023903830.py:15: FutureWarning: Pass y=[ 0.00172682  0.00319461  0.00293559 ... -0.0004317  -0.00017268\n",
      "  0.0004317 ] as keyword args. From version 0.10 passing these as positional arguments will result in an error\n",
      "  mel=np.mean(librosa.feature.melspectrogram(X, sr=sample_rate).T,axis=0)\n"
     ]
    }
   ],
   "source": [
    "feature = extract_feature(\"/home/prakriti/College/FYP/The/Emotively/media/Amused_J502JCO.wav\", mfcc=True, chroma=True, mel=True)"
   ]
  },
  {
   "cell_type": "code",
   "execution_count": 26,
   "id": "5bb3a918",
   "metadata": {},
   "outputs": [
    {
     "name": "stdout",
     "output_type": "stream",
     "text": [
      "Surprised\n"
     ]
    }
   ],
   "source": [
    "xpred = np.array(feature.reshape(1, -1))\n",
    "res = model.predict(xpred)\n",
    "result = res[0]\n",
    "print(result)"
   ]
  },
  {
   "cell_type": "code",
   "execution_count": 27,
   "id": "bc147c3c",
   "metadata": {},
   "outputs": [],
   "source": [
    "strin = \"/media/Amused_NKumIrV.wav\""
   ]
  },
  {
   "cell_type": "code",
   "execution_count": 31,
   "id": "7b8aa7a1",
   "metadata": {},
   "outputs": [
    {
     "data": {
      "text/plain": [
       "'media/Amused_NKumIrV.wav'"
      ]
     },
     "execution_count": 31,
     "metadata": {},
     "output_type": "execute_result"
    }
   ],
   "source": [
    "strin[1:]"
   ]
  }
 ],
 "metadata": {
  "kernelspec": {
   "display_name": "FYP-env",
   "language": "python",
   "name": "fyp-env"
  },
  "language_info": {
   "codemirror_mode": {
    "name": "ipython",
    "version": 3
   },
   "file_extension": ".py",
   "mimetype": "text/x-python",
   "name": "python",
   "nbconvert_exporter": "python",
   "pygments_lexer": "ipython3",
   "version": "3.8.10"
  }
 },
 "nbformat": 4,
 "nbformat_minor": 5
}
