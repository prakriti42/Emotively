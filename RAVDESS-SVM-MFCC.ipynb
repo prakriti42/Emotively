{
 "cells": [
  {
   "cell_type": "markdown",
   "metadata": {},
   "source": [
    "# speech emotion classification\n"
   ]
  },
  {
   "cell_type": "code",
   "execution_count": 2,
   "metadata": {},
   "outputs": [],
   "source": [
    "import librosa\n",
    "import librosa.display\n",
    "import matplotlib.pyplot as plt\n",
    "import numpy as np"
   ]
  },
  {
   "cell_type": "markdown",
   "metadata": {},
   "source": [
    "#### File naming convention\n",
    "Each of the 1440 files has a unique filename. The filename consists of a 7-part numerical identifier (e.g., 03-01-06-01-02-01-12.wav). These identifiers define the stimulus characteristics:\n",
    "<br>\n",
    "##### Filename identifiers\n",
    "- Modality (01 = full-AV, 02 = video-only, 03 = audio-only).\n",
    "<br>\n",
    "- Vocal channel (01 = speech, 02 = song).\n",
    "<br>\n",
    "- Emotion (01 = neutral, 02 = calm, 03 = happy, 04 = sad, 05 = angry, 06 = fearful, 07 = disgust, 08 = surprised).\n",
    "<br>\n",
    "- Emotional intensity (01 = normal, 02 = strong). NOTE: There is no strong intensity for the 'neutral' emotion.\n",
    "<br>\n",
    "- Statement (01 = \"Kids are talking by the door\", 02 = \"Dogs are sitting by the door\").\n",
    "<br>\n",
    "- Repetition (01 = 1st repetition, 02 = 2nd repetition).\n",
    "<br>\n",
    "- Actor (01 to 24. Odd numbered actors are male, even numbered actors are female).\n",
    "<br>\n",
    "\n",
    "##### Filename example: 03-01-06-01-02-01-12.wav\n",
    "- Audio-only (03)\n",
    "<br>\n",
    "- Speech (01)\n",
    "<br>\n",
    "- Fearful (06)\n",
    "<br>\n",
    "- Normal intensity (01)\n",
    "<br>\n",
    "- Statement \"dogs\" (02)\n",
    "<br>\n",
    "- 1st Repetition (01)\n",
    "<br>\n",
    "- 12th Actor (12) Female, as the actor ID number is even."
   ]
  },
  {
   "cell_type": "markdown",
   "metadata": {},
   "source": [
    "## Emotion labels\n",
    "01 = neutral\n",
    "<br>\n",
    "02 = calm\n",
    "<br>\n",
    "03 = happy\n",
    "<br>\n",
    "04 = sad \n",
    "<br>\n",
    "05 = angry \n",
    "<br>\n",
    "06 = fearful\n",
    "<br>\n",
    "07 = disgust\n",
    "<br>\n",
    "08 = surprised"
   ]
  },
  {
   "cell_type": "markdown",
   "metadata": {},
   "source": [
    "## Data usage\n",
    "in this notebook we will use the following elements:\n",
    "- Modality (03 = audio-only)\n",
    "<br>\n",
    "- Vocal channel (01 = speech)\n",
    "<br>\n",
    "- Emotion (01 = neutral, 02 = calm, 03 = happy, 04 = sad, 05 = angry, 06 = fearful, 07 = disgust, 08 = surprised)\n",
    "<br>\n",
    "- Emotional intensity (01 = normal, 02 = strong)\n",
    "<br>\n",
    "- Statement (01 = \"Kids are talking by the door\")\n",
    "<br>\n",
    "- Repetition (01 = 1st repetition)\n",
    "<br>\n",
    "- Actor (01 to 24. Odd numbered actors are male, even numbered actors are female)"
   ]
  },
  {
   "cell_type": "markdown",
   "metadata": {},
   "source": [
    "## step 1: Open RAVDESS dataset & explore structure of wave samples\n",
    "##### requirements:\n",
    "- Download Ravdess-RawData\n",
    "- Replace my_path with your own path"
   ]
  },
  {
   "cell_type": "code",
   "execution_count": 3,
   "metadata": {},
   "outputs": [],
   "source": [
    "my_path = '/home/prakriti/College/FYP/Project/Emotively/model prop/speech-emotion-classification/RAVDESS-RawData-20220427T083419Z-001/RAVDESS-RawData'"
   ]
  },
  {
   "cell_type": "code",
   "execution_count": 4,
   "metadata": {},
   "outputs": [
    {
     "name": "stdout",
     "output_type": "stream",
     "text": [
      "this is the len of our data:  1440\n",
      "this is an example of a wave file: 03-01-08-02-02-02-08.wav\n",
      "this index position represents the emotion label: 08\n"
     ]
    }
   ],
   "source": [
    "import os\n",
    "my_data = os.listdir(my_path)\n",
    "print(\"this is the len of our data: \", len(my_data))\n",
    "print(\"this is an example of a wave file:\", my_data[50])\n",
    "print(\"this index position represents the emotion label:\", my_data[50][6:8])"
   ]
  },
  {
   "cell_type": "markdown",
   "metadata": {},
   "source": [
    "## step 2: Load audio file and visualize its waveform (using librosa)"
   ]
  },
  {
   "cell_type": "code",
   "execution_count": 5,
   "metadata": {},
   "outputs": [],
   "source": [
    "data, sampling_rate = librosa.load(my_path+'/03-01-01-01-02-01-03.wav')"
   ]
  },
  {
   "cell_type": "code",
   "execution_count": 6,
   "metadata": {},
   "outputs": [
    {
     "data": {
      "text/plain": [
       "<librosa.display.AdaptiveWaveplot at 0x7f4a5fbd2340>"
      ]
     },
     "execution_count": 6,
     "metadata": {},
     "output_type": "execute_result"
    },
    {
     "data": {
      "image/png": "[encoded data removed]",
      "text/plain": [
       "<Figure size 1080x360 with 1 Axes>"
      ]
     },
     "metadata": {
      "needs_background": "light"
     },
     "output_type": "display_data"
    }
   ],
   "source": [
    "plt.figure(figsize=(15, 5))\n",
    "librosa.display.waveshow(data, sr=sampling_rate)"
   ]
  },
  {
   "cell_type": "markdown",
   "metadata": {},
   "source": [
    "## Step 3: Convert the audio waveform"
   ]
  },
  {
   "cell_type": "markdown",
   "metadata": {},
   "source": [
    "### Mel-frequency cepstral coefficients (MFCC) extraction\n",
    "function returns:\n",
    "- features\n",
    "<br>\n",
    "- labels"
   ]
  },
  {
   "cell_type": "code",
   "execution_count": 7,
   "metadata": {},
   "outputs": [],
   "source": [
    "import scipy.io.wavfile\n",
    "import numpy as np\n",
    "\n",
    "emotions_num = [\"Neutral-01\",\"Calm-02\",\"Happy-03\",\"Sad-04\",\"Angry-05\",\"Fearful-06\",\"Disgust-07\",\"Surprised-08\"]\n",
    "actors = [\"01\",\"02\",\"03\",\"04\",\"05\",\"06\",\"07\",\"08\",\"09\",\"10\",\"11\",\"12\",\n",
    "         \"13\",\"14\",\"15\",\"16\",\"17\",\"18\",\"19\",\"20\",\"21\",\"22\",\"23\",\"24\"]\n",
    "\n",
    "number_of_mfcc_features = 49\n",
    "\n",
    "def mfcc_extraction(path, modal_vocal, emotions_num, actors):\n",
    "    labels = []\n",
    "    mean_features = []\n",
    "    std_features = []\n",
    "    var_features = []\n",
    "    min_features = []\n",
    "    max_features = []\n",
    "    \n",
    "    #with repetition number: 1 and statement number 1 and emotional intensity number #1\n",
    "    for index1,emotion_num in enumerate(emotions_num):\n",
    "        for index,actor in enumerate(actors):\n",
    "            x, sr = librosa.load(path+modal_vocal+emotion_num[-2:]+\"-01-01-01-\"+actor+\".wav\", sr=44100)\n",
    "            mean_mfccs = np.mean(librosa.feature.mfcc(y=x, sr=sr, n_mfcc=number_of_mfcc_features).T,axis=0) \n",
    "            std_mfccs = np.std(librosa.feature.mfcc(y=x, sr=sr, n_mfcc=number_of_mfcc_features).T,axis=0)\n",
    "            var_mfccs = np.var(librosa.feature.mfcc(y=x, sr=sr, n_mfcc=number_of_mfcc_features).T,axis=0)\n",
    "            min_mfccs = np.amin(librosa.feature.mfcc(y=x, sr=sr, n_mfcc=number_of_mfcc_features).T,axis=0)\n",
    "            max_mfccs = np.amax(librosa.feature.mfcc(y=x, sr=sr, n_mfcc=number_of_mfcc_features).T,axis=0)\n",
    "            \n",
    "            mean_features.append(mean_mfccs)\n",
    "            std_features.append(std_mfccs)\n",
    "            var_features.append(var_mfccs)\n",
    "            min_features.append(min_mfccs)\n",
    "            max_features.append(max_mfccs)\n",
    "            \n",
    "            labels.append(emotion_num[:-3])\n",
    "    \n",
    "    #with repetition number: 1 and statement number 2 and emotional intensity number 1\n",
    "    for index1,emotion_num in enumerate(emotions_num):\n",
    "        for index,actor in enumerate(actors):\n",
    "            x, sr = librosa.load(path+modal_vocal+emotion_num[-2:]+\"-01-02-01-\"+actor+\".wav\", sr=44100)\n",
    "            mean_mfccs = np.mean(librosa.feature.mfcc(y=x, sr=sr, n_mfcc=number_of_mfcc_features).T,axis=0) \n",
    "            std_mfccs = np.std(librosa.feature.mfcc(y=x, sr=sr, n_mfcc=number_of_mfcc_features).T,axis=0)\n",
    "            var_mfccs = np.var(librosa.feature.mfcc(y=x, sr=sr, n_mfcc=number_of_mfcc_features).T,axis=0)\n",
    "            min_mfccs = np.amin(librosa.feature.mfcc(y=x, sr=sr, n_mfcc=number_of_mfcc_features).T,axis=0)\n",
    "            max_mfccs = np.amax(librosa.feature.mfcc(y=x, sr=sr, n_mfcc=number_of_mfcc_features).T,axis=0)\n",
    "            \n",
    "            mean_features.append(mean_mfccs)\n",
    "            std_features.append(std_mfccs)\n",
    "            var_features.append(var_mfccs)\n",
    "            min_features.append(min_mfccs)\n",
    "            max_features.append(max_mfccs)\n",
    "            \n",
    "            labels.append(emotion_num[:-3])\n",
    "            \n",
    "    #with repetition number: 2 and statement number 1 and emotional intensity number #1\n",
    "    for index1,emotion_num in enumerate(emotions_num):\n",
    "        for index,actor in enumerate(actors):\n",
    "            x, sr = librosa.load(path+modal_vocal+emotion_num[-2:]+\"-01-01-02-\"+actor+\".wav\", sr=44100)\n",
    "            mean_mfccs = np.mean(librosa.feature.mfcc(y=x, sr=sr, n_mfcc=number_of_mfcc_features).T,axis=0) \n",
    "            std_mfccs = np.std(librosa.feature.mfcc(y=x, sr=sr, n_mfcc=number_of_mfcc_features).T,axis=0)\n",
    "            var_mfccs = np.var(librosa.feature.mfcc(y=x, sr=sr, n_mfcc=number_of_mfcc_features).T,axis=0)\n",
    "            min_mfccs = np.amin(librosa.feature.mfcc(y=x, sr=sr, n_mfcc=number_of_mfcc_features).T,axis=0)\n",
    "            max_mfccs = np.amax(librosa.feature.mfcc(y=x, sr=sr, n_mfcc=number_of_mfcc_features).T,axis=0)\n",
    "            \n",
    "            mean_features.append(mean_mfccs)\n",
    "            std_features.append(std_mfccs)\n",
    "            var_features.append(var_mfccs)\n",
    "            min_features.append(min_mfccs)\n",
    "            max_features.append(max_mfccs)\n",
    "            \n",
    "            labels.append(emotion_num[:-3])\n",
    "            \n",
    "    #with repetition number: 2 and statement number 2 and emotional intensity number 1\n",
    "    for index1,emotion_num in enumerate(emotions_num):\n",
    "        for index,actor in enumerate(actors):\n",
    "            x, sr = librosa.load(path+modal_vocal+emotion_num[-2:]+\"-01-02-02-\"+actor+\".wav\", sr=44100)\n",
    "            mean_mfccs = np.mean(librosa.feature.mfcc(y=x, sr=sr, n_mfcc=number_of_mfcc_features).T,axis=0) \n",
    "            std_mfccs = np.std(librosa.feature.mfcc(y=x, sr=sr, n_mfcc=number_of_mfcc_features).T,axis=0)\n",
    "            var_mfccs = np.var(librosa.feature.mfcc(y=x, sr=sr, n_mfcc=number_of_mfcc_features).T,axis=0)\n",
    "            min_mfccs = np.amin(librosa.feature.mfcc(y=x, sr=sr, n_mfcc=number_of_mfcc_features).T,axis=0)\n",
    "            max_mfccs = np.amax(librosa.feature.mfcc(y=x, sr=sr, n_mfcc=number_of_mfcc_features).T,axis=0)\n",
    "            \n",
    "            mean_features.append(mean_mfccs)\n",
    "            std_features.append(std_mfccs)\n",
    "            var_features.append(var_mfccs)\n",
    "            min_features.append(min_mfccs)\n",
    "            max_features.append(max_mfccs)\n",
    "            \n",
    "            labels.append(emotion_num[:-3])\n",
    "    \n",
    "    #with repetition number: 1 and statement number 1 and emotional intensity number #2\n",
    "    for index1,emotion_num in enumerate(emotions_num):\n",
    "        for index,actor in enumerate(actors):\n",
    "            if emotion_num != \"Neutral-01\":\n",
    "                x, sr = librosa.load(path+modal_vocal+emotion_num[-2:]+\"-02-01-01-\"+actor+\".wav\", sr=44100)\n",
    "                mean_mfccs = np.mean(librosa.feature.mfcc(y=x, sr=sr, n_mfcc=number_of_mfcc_features).T,axis=0) \n",
    "                std_mfccs = np.std(librosa.feature.mfcc(y=x, sr=sr, n_mfcc=number_of_mfcc_features).T,axis=0)\n",
    "                var_mfccs = np.var(librosa.feature.mfcc(y=x, sr=sr, n_mfcc=number_of_mfcc_features).T,axis=0)\n",
    "                min_mfccs = np.amin(librosa.feature.mfcc(y=x, sr=sr, n_mfcc=number_of_mfcc_features).T,axis=0)\n",
    "                max_mfccs = np.amax(librosa.feature.mfcc(y=x, sr=sr, n_mfcc=number_of_mfcc_features).T,axis=0)\n",
    "            \n",
    "                mean_features.append(mean_mfccs)\n",
    "                std_features.append(std_mfccs)\n",
    "                var_features.append(var_mfccs)\n",
    "                min_features.append(min_mfccs)\n",
    "                max_features.append(max_mfccs)\n",
    "                labels.append(emotion_num[:-3])\n",
    "    \n",
    "    #with repetition number: 1 and statement number 2 and emotional intensity number 2\n",
    "    for index1,emotion_num in enumerate(emotions_num):\n",
    "        for index,actor in enumerate(actors):\n",
    "            if emotion_num != \"Neutral-01\":\n",
    "                x, sr = librosa.load(path+modal_vocal+emotion_num[-2:]+\"-02-02-01-\"+actor+\".wav\", sr=44100)\n",
    "                mean_mfccs = np.mean(librosa.feature.mfcc(y=x, sr=sr, n_mfcc=number_of_mfcc_features).T,axis=0) \n",
    "                std_mfccs = np.std(librosa.feature.mfcc(y=x, sr=sr, n_mfcc=number_of_mfcc_features).T,axis=0)\n",
    "                var_mfccs = np.var(librosa.feature.mfcc(y=x, sr=sr, n_mfcc=number_of_mfcc_features).T,axis=0)\n",
    "                min_mfccs = np.amin(librosa.feature.mfcc(y=x, sr=sr, n_mfcc=number_of_mfcc_features).T,axis=0)\n",
    "                max_mfccs = np.amax(librosa.feature.mfcc(y=x, sr=sr, n_mfcc=number_of_mfcc_features).T,axis=0)\n",
    "            \n",
    "                mean_features.append(mean_mfccs)\n",
    "                std_features.append(std_mfccs)\n",
    "                var_features.append(var_mfccs)\n",
    "                min_features.append(min_mfccs)\n",
    "                max_features.append(max_mfccs)\n",
    "                labels.append(emotion_num[:-3])\n",
    "            \n",
    "    #with repetition number: 2 and statement number 1 and emotional intensity number #2\n",
    "    for index1,emotion_num in enumerate(emotions_num):\n",
    "        for index,actor in enumerate(actors):\n",
    "            if emotion_num != \"Neutral-01\":\n",
    "                x, sr = librosa.load(path+modal_vocal+emotion_num[-2:]+\"-02-01-02-\"+actor+\".wav\", sr=44100)\n",
    "                mean_mfccs = np.mean(librosa.feature.mfcc(y=x, sr=sr, n_mfcc=number_of_mfcc_features).T,axis=0) \n",
    "                std_mfccs = np.std(librosa.feature.mfcc(y=x, sr=sr, n_mfcc=number_of_mfcc_features).T,axis=0)\n",
    "                var_mfccs = np.var(librosa.feature.mfcc(y=x, sr=sr, n_mfcc=number_of_mfcc_features).T,axis=0)\n",
    "                min_mfccs = np.amin(librosa.feature.mfcc(y=x, sr=sr, n_mfcc=number_of_mfcc_features).T,axis=0)\n",
    "                max_mfccs = np.amax(librosa.feature.mfcc(y=x, sr=sr, n_mfcc=number_of_mfcc_features).T,axis=0)\n",
    "            \n",
    "                mean_features.append(mean_mfccs)\n",
    "                std_features.append(std_mfccs)\n",
    "                var_features.append(var_mfccs)\n",
    "                min_features.append(min_mfccs)\n",
    "                max_features.append(max_mfccs)\n",
    "                \n",
    "                labels.append(emotion_num[:-3])\n",
    "            \n",
    "    #with repetition number: 2 and statement number 2 and emotional intensity number 2\n",
    "    for index1,emotion_num in enumerate(emotions_num):\n",
    "        for index,actor in enumerate(actors):\n",
    "            if emotion_num != \"Neutral-01\":\n",
    "                x, sr = librosa.load(path+modal_vocal+emotion_num[-2:]+\"-02-02-02-\"+actor+\".wav\", sr=44100)\n",
    "                mean_mfccs = np.mean(librosa.feature.mfcc(y=x, sr=sr, n_mfcc=number_of_mfcc_features).T,axis=0) \n",
    "                std_mfccs = np.std(librosa.feature.mfcc(y=x, sr=sr, n_mfcc=number_of_mfcc_features).T,axis=0)\n",
    "                var_mfccs = np.var(librosa.feature.mfcc(y=x, sr=sr, n_mfcc=number_of_mfcc_features).T,axis=0)\n",
    "                min_mfccs = np.amin(librosa.feature.mfcc(y=x, sr=sr, n_mfcc=number_of_mfcc_features).T,axis=0)\n",
    "                max_mfccs = np.amax(librosa.feature.mfcc(y=x, sr=sr, n_mfcc=number_of_mfcc_features).T,axis=0)\n",
    "            \n",
    "                mean_features.append(mean_mfccs)\n",
    "                std_features.append(std_mfccs)\n",
    "                var_features.append(var_mfccs)\n",
    "                min_features.append(min_mfccs)\n",
    "                max_features.append(max_mfccs)\n",
    "                \n",
    "                labels.append(emotion_num[:-3])      \n",
    "\n",
    "    return number_of_mfcc_features, mean_features, std_features, var_features, min_features, max_features, labels\n",
    "\n",
    "\n",
    "mfcc_features_and_labels = mfcc_extraction(my_path,'/03-01-', emotions_num, actors)"
   ]
  },
  {
   "cell_type": "markdown",
   "metadata": {},
   "source": [
    "#### In our function we are extracting 2(repetition)2(statement)2(emotional)8(emotions)24(actors)\n",
    "#### 1440 examples"
   ]
  },
  {
   "cell_type": "code",
   "execution_count": 39,
   "metadata": {},
   "outputs": [
    {
     "name": "stdout",
     "output_type": "stream",
     "text": [
      "len of examples: 1440\n",
      "len of labels: 1440\n",
      "number of mfcc features: 49\n",
      "feature dimension: 1\n",
      "feature shape: (49,)\n",
      "\n",
      "[-5.7645172e+02  8.2724953e+01 -7.0817952e+00  5.2333407e+00\n",
      " -6.5716034e-01  1.0053834e+01 -4.9013152e+00 -4.2561822e+00\n",
      " -1.3788512e+01 -4.1176744e+00 -8.9798145e+00 -5.6229591e+00\n",
      "  4.2134027e+00 -4.0063982e+00 -7.3035188e+00  2.4391019e-01\n",
      " -4.7414565e+00 -2.7031817e+00 -2.0541093e+00 -1.6875015e+00\n",
      " -4.1548905e+00 -2.5356383e+00 -3.1352317e+00 -5.1127276e+00\n",
      " -3.7744212e+00 -4.1981568e+00 -2.6579576e+00 -3.0239367e+00\n",
      " -5.0019107e+00 -2.8822901e+00 -2.2563875e+00 -3.2977862e+00\n",
      " -2.6482699e+00 -8.9440703e-01 -2.6724448e+00 -2.5126584e+00\n",
      " -8.3981407e-01 -8.5725057e-01 -4.4724017e-01  2.2521691e+00\n",
      "  2.3508418e+00  1.9847670e+00  5.5257261e-01 -2.4194217e-01\n",
      " -2.8293090e+00 -3.9131041e+00 -1.2616698e+00  8.4937668e-01\n",
      "  2.1435601e-01] Happy\n"
     ]
    }
   ],
   "source": [
    "# exract features and labels from \n",
    "number_of_mfcc_features, mean_mfcc_features, std_mfcc_features, var_mfcc_features, min_features, max_features, mfcc_labels = mfcc_features_and_labels\n",
    "print(\"len of examples:\", len(mean_mfcc_features))\n",
    "print(\"len of labels:\", len(mfcc_labels))\n",
    "print(\"number of mfcc features:\", number_of_mfcc_features)\n",
    "print(\"feature dimension:\", mean_mfcc_features[0].ndim)\n",
    "print(\"feature shape:\", mean_mfcc_features[0].shape)\n",
    "print()\n",
    "mfcc_labels = np.array(mfcc_labels)\n",
    "print(mean_mfcc_features[50],mfcc_labels[50])\n"
   ]
  },
  {
   "cell_type": "code",
   "execution_count": 10,
   "metadata": {},
   "outputs": [
    {
     "name": "stdout",
     "output_type": "stream",
     "text": [
      "(1440, 49)\n",
      "(1440, 49)\n",
      "(1440, 49)\n",
      "(1440, 49)\n",
      "(1440, 49)\n"
     ]
    }
   ],
   "source": [
    "mean_mfcc_features = np.array(mean_mfcc_features)\n",
    "std_mfcc_features = np.array(std_mfcc_features)\n",
    "var_mfcc_features = np.array(var_mfcc_features)\n",
    "min_features = np.array(min_features)\n",
    "max_features = np.array(max_features)\n",
    "\n",
    "print(std_mfcc_features.shape)\n",
    "print(mean_mfcc_features.shape)\n",
    "print(var_mfcc_features.shape)\n",
    "print(min_features.shape)\n",
    "print(max_features.shape)"
   ]
  },
  {
   "cell_type": "code",
   "execution_count": 11,
   "metadata": {},
   "outputs": [
    {
     "data": {
      "text/plain": [
       "(1440, 98)"
      ]
     },
     "execution_count": 11,
     "metadata": {},
     "output_type": "execute_result"
    }
   ],
   "source": [
    "mfcc_features = np.concatenate((mean_mfcc_features,std_mfcc_features),axis = 1)\n",
    "mfcc_features.shape"
   ]
  },
  {
   "cell_type": "markdown",
   "metadata": {},
   "source": [
    "# Step 4: apply PCA\n",
    "- plot and explore explained variance\n",
    "- use explained variance in order to select the best N components"
   ]
  },
  {
   "cell_type": "code",
   "execution_count": 12,
   "metadata": {},
   "outputs": [
    {
     "data": {
      "image/png": "[encoded data removed]",
      "text/plain": [
       "<Figure size 432x288 with 1 Axes>"
      ]
     },
     "metadata": {
      "needs_background": "light"
     },
     "output_type": "display_data"
    }
   ],
   "source": [
    "from sklearn.decomposition import PCA\n",
    "#Fitting the PCA algorithm with our Data\n",
    "pca = PCA().fit(mfcc_features)\n",
    "#Plotting the Cumulative Summation of the Explained Variance\n",
    "plt.figure()\n",
    "plt.plot(np.cumsum(pca.explained_variance_ratio_))\n",
    "plt.xlabel('Number of Components')\n",
    "plt.ylabel('Variance (%)') #for each component\n",
    "plt.title('MFCC Explained Variance')\n",
    "plt.show()"
   ]
  },
  {
   "cell_type": "code",
   "execution_count": 14,
   "metadata": {},
   "outputs": [],
   "source": [
    "from sklearn.decomposition import PCA\n",
    "pca = PCA(n_components=69)\n",
    "mfcc_features = pca.fit_transform(mfcc_features)"
   ]
  },
  {
   "cell_type": "code",
   "execution_count": 13,
   "metadata": {},
   "outputs": [
    {
     "data": {
      "text/plain": [
       "(1440, 98)"
      ]
     },
     "execution_count": 13,
     "metadata": {},
     "output_type": "execute_result"
    }
   ],
   "source": [
    "mfcc_features.shape"
   ]
  },
  {
   "cell_type": "markdown",
   "metadata": {},
   "source": [
    "# standardize"
   ]
  },
  {
   "cell_type": "code",
   "execution_count": 40,
   "metadata": {},
   "outputs": [
    {
     "name": "stdout",
     "output_type": "stream",
     "text": [
      "[[-1.0392767   0.17802612  0.6734327  ... -1.7759216  -1.5591149\n",
      "  -0.4720056 ]\n",
      " [-0.5842356   0.22004014 -0.02486327 ... -0.7029088  -0.54338145\n",
      "  -0.31812394]\n",
      " [-0.31112382  0.61530155  0.24062808 ...  0.00288281  0.7750709\n",
      "   2.125103  ]\n",
      " ...\n",
      " [ 0.5736633  -1.5173514  -0.77401984 ...  0.15932503  0.5029108\n",
      "   0.53025436]\n",
      " [ 0.6518526  -0.9576893  -0.7234257  ... -0.8768509  -0.66549087\n",
      "  -0.26163667]\n",
      " [ 0.757218   -1.5053033  -0.29608497 ... -1.1465832  -0.72738487\n",
      "  -0.76369363]]\n"
     ]
    }
   ],
   "source": [
    "from sklearn.preprocessing import StandardScaler\n",
    "\n",
    "data = mfcc_features\n",
    "scaler = StandardScaler()\n",
    "mfcc_features = scaler.fit_transform(data)\n",
    "print(mfcc_features)"
   ]
  },
  {
   "cell_type": "markdown",
   "metadata": {},
   "source": [
    "# Step 5 oversamle neutral in order to match our dataset"
   ]
  },
  {
   "cell_type": "code",
   "execution_count": 15,
   "metadata": {},
   "outputs": [
    {
     "name": "stdout",
     "output_type": "stream",
     "text": [
      "{'Neutral': 96, 'Calm': 192, 'Happy': 192, 'Sad': 192, 'Angry': 192, 'Fearful': 192, 'Disgust': 192, 'Surprised': 192}\n"
     ]
    }
   ],
   "source": [
    "dictionary = {}\n",
    "for i in mfcc_labels:\n",
    "    dictionary[i] = dictionary.get(i,0) + 1\n",
    "\n",
    "print(dictionary)"
   ]
  },
  {
   "cell_type": "code",
   "execution_count": 16,
   "metadata": {},
   "outputs": [
    {
     "name": "stdout",
     "output_type": "stream",
     "text": [
      "{'Neutral': 192, 'Calm': 192, 'Happy': 192, 'Sad': 192, 'Angry': 192, 'Fearful': 192, 'Disgust': 192, 'Surprised': 192}\n"
     ]
    }
   ],
   "source": [
    "from imblearn.over_sampling import RandomOverSampler\n",
    "ros = RandomOverSampler(random_state=42)\n",
    "new_mfcc_features,  mfcc_labels = ros.fit_resample(mfcc_features,  mfcc_labels)\n",
    "\n",
    "dictionary_2 = {}\n",
    "for i in mfcc_labels:\n",
    "    dictionary_2[i] = dictionary_2.get(i,0) + 1\n",
    "\n",
    "print(dictionary_2)"
   ]
  },
  {
   "cell_type": "markdown",
   "metadata": {},
   "source": [
    "## checkpoint"
   ]
  },
  {
   "cell_type": "code",
   "execution_count": 17,
   "metadata": {},
   "outputs": [
    {
     "data": {
      "text/plain": [
       "(1536, 98)"
      ]
     },
     "execution_count": 17,
     "metadata": {},
     "output_type": "execute_result"
    }
   ],
   "source": [
    "new_mfcc_features.shape"
   ]
  },
  {
   "cell_type": "markdown",
   "metadata": {},
   "source": [
    "# step 6: Split data in Train, Val & Test\n",
    "- features = stft_features\n",
    "- labels = categorical_stft_labels"
   ]
  },
  {
   "cell_type": "code",
   "execution_count": 18,
   "metadata": {},
   "outputs": [],
   "source": [
    "from sklearn.model_selection import train_test_split\n",
    "X_train, X_test, y_train, y_test = train_test_split(new_mfcc_features, mfcc_labels, test_size=0.30, \n",
    "                                                    random_state=42, stratify = mfcc_labels, shuffle= True)"
   ]
  },
  {
   "cell_type": "markdown",
   "metadata": {},
   "source": [
    "# step 7: SVM model"
   ]
  },
  {
   "cell_type": "code",
   "execution_count": 19,
   "metadata": {},
   "outputs": [],
   "source": [
    "from sklearn.svm import SVC\n",
    "from sklearn.metrics import accuracy_score"
   ]
  },
  {
   "cell_type": "code",
   "execution_count": 20,
   "metadata": {},
   "outputs": [
    {
     "name": "stdout",
     "output_type": "stream",
     "text": [
      "0.631236442516269\n"
     ]
    }
   ],
   "source": [
    "clf = SVC(kernel='linear')\n",
    "clf.fit(X_train,y_train)\n",
    "y_pred = clf.predict(X_test)\n",
    "print(accuracy_score(y_test,y_pred))"
   ]
  },
  {
   "cell_type": "markdown",
   "metadata": {},
   "source": [
    "# SVM model using Gridsearch"
   ]
  },
  {
   "cell_type": "code",
   "execution_count": 21,
   "metadata": {},
   "outputs": [
    {
     "data": {
      "text/plain": [
       "GridSearchCV(cv=10, estimator=SVC(),\n",
       "             param_grid={'C': [0.1, 1, 10, 100, 1000],\n",
       "                         'gamma': [1, 0.1, 0.01, 0.001, 0.0001],\n",
       "                         'kernel': ['linear', 'poly', 'rbf']})"
      ]
     },
     "execution_count": 21,
     "metadata": {},
     "output_type": "execute_result"
    }
   ],
   "source": [
    "from sklearn.model_selection import GridSearchCV \n",
    "  \n",
    "# defining parameter range \n",
    "param_grid = {'C': [0.1, 1, 10, 100, 1000],  \n",
    "              'gamma': [1, 0.1, 0.01, 0.001, 0.0001], \n",
    "              'kernel': ['linear','poly','rbf']}  \n",
    "\n",
    "grid = GridSearchCV(SVC(), param_grid, cv=10) \n",
    "  \n",
    "# fitting the model for grid search \n",
    "grid.fit(X_train, y_train) "
   ]
  },
  {
   "cell_type": "code",
   "execution_count": 22,
   "metadata": {},
   "outputs": [
    {
     "name": "stdout",
     "output_type": "stream",
     "text": [
      "{'C': 10, 'gamma': 0.01, 'kernel': 'rbf'}\n",
      "SVC(C=10, gamma=0.01)\n"
     ]
    }
   ],
   "source": [
    "\n",
    "print(grid.best_params_) \n",
    "  \n",
    "\n",
    "print(grid.best_estimator_) "
   ]
  },
  {
   "cell_type": "code",
   "execution_count": 23,
   "metadata": {},
   "outputs": [
    {
     "name": "stdout",
     "output_type": "stream",
     "text": [
      "              precision    recall  f1-score   support\n",
      "\n",
      "       Angry       0.83      0.77      0.80        57\n",
      "        Calm       0.96      0.89      0.93        57\n",
      "     Disgust       0.69      0.76      0.72        58\n",
      "     Fearful       0.79      0.78      0.78        58\n",
      "       Happy       0.71      0.59      0.64        58\n",
      "     Neutral       0.83      0.93      0.88        57\n",
      "         Sad       0.70      0.76      0.73        58\n",
      "   Surprised       0.81      0.83      0.82        58\n",
      "\n",
      "    accuracy                           0.79       461\n",
      "   macro avg       0.79      0.79      0.79       461\n",
      "weighted avg       0.79      0.79      0.79       461\n",
      "\n",
      "[[44  0  6  0  4  1  0  2]\n",
      " [ 0 51  0  0  0  2  4  0]\n",
      " [ 4  1 44  0  2  1  2  4]\n",
      " [ 1  0  1 45  4  1  5  1]\n",
      " [ 3  1  8  4 34  2  6  0]\n",
      " [ 0  0  2  2  0 53  0  0]\n",
      " [ 1  0  2  2  2  3 44  4]\n",
      " [ 0  0  1  4  2  1  2 48]]\n",
      "\n",
      "0.7874186550976139\n"
     ]
    }
   ],
   "source": [
    "from sklearn.metrics import classification_report, confusion_matrix, accuracy_score\n",
    "grid_predictions = grid.predict(X_test) \n",
    "# print classification report \n",
    "print(classification_report(y_test, grid_predictions)) \n",
    "print(confusion_matrix(y_test, grid_predictions)) \n",
    "print()\n",
    "print(accuracy_score(y_test, grid_predictions)) "
   ]
  },
  {
   "cell_type": "code",
   "execution_count": 32,
   "metadata": {},
   "outputs": [
    {
     "data": {
      "text/plain": [
       "<AxesSubplot:>"
      ]
     },
     "execution_count": 32,
     "metadata": {},
     "output_type": "execute_result"
    },
    {
     "data": {
      "image/png": "[encoded data removed]",
      "text/plain": [
       "<Figure size 432x288 with 2 Axes>"
      ]
     },
     "metadata": {
      "needs_background": "light"
     },
     "output_type": "display_data"
    }
   ],
   "source": [
    "import seaborn as sns \n",
    "cf = confusion_matrix(y_test, grid_predictions)\n",
    "sns.heatmap(cf , annot = True)"
   ]
  },
  {
   "cell_type": "code",
   "execution_count": null,
   "metadata": {},
   "outputs": [],
   "source": []
  },
  {
   "cell_type": "code",
   "execution_count": 25,
   "metadata": {},
   "outputs": [
    {
     "name": "stdout",
     "output_type": "stream",
     "text": [
      "Accuracy found through MLP Classifier is : 78.74%\n"
     ]
    }
   ],
   "source": [
    "y_pred=grid.predict(X_test)\n",
    "accuracy=accuracy_score(y_true=y_test, y_pred=y_pred)\n",
    "print(\"Accuracy found through MLP Classifier is : {:.2f}%\".format(accuracy*100))"
   ]
  },
  {
   "cell_type": "code",
   "execution_count": 26,
   "metadata": {},
   "outputs": [],
   "source": [
    "from sklearn.neural_network import MLPClassifier\n",
    "from sklearn.metrics import accuracy_score"
   ]
  },
  {
   "cell_type": "code",
   "execution_count": 27,
   "metadata": {},
   "outputs": [
    {
     "name": "stdout",
     "output_type": "stream",
     "text": [
      "Accuracy found through MLP Classifier is : 69.20%\n"
     ]
    },
    {
     "name": "stderr",
     "output_type": "stream",
     "text": [
      "/home/prakriti/College/FYP/Project/Emotively/FYP-env/lib/python3.8/site-packages/sklearn/neural_network/_multilayer_perceptron.py:692: ConvergenceWarning: Stochastic Optimizer: Maximum iterations (10) reached and the optimization hasn't converged yet.\n",
      "  warnings.warn(\n"
     ]
    }
   ],
   "source": [
    "model=MLPClassifier(alpha=0.1, \n",
    "                    batch_size=20, \n",
    "                    hidden_layer_sizes=(200,), \n",
    "                    learning_rate='adaptive', \n",
    "                    max_iter=10)\n",
    "model.fit(X_train,y_train)\n",
    "y_pred=model.predict(X_test)\n",
    "accuracy=accuracy_score(y_true=y_test, y_pred=y_pred)\n",
    "print(\"Accuracy found through MLP Classifier is : {:.2f}%\".format(accuracy*100))"
   ]
  },
  {
   "cell_type": "code",
   "execution_count": 28,
   "metadata": {},
   "outputs": [
    {
     "name": "stdout",
     "output_type": "stream",
     "text": [
      "Accuracy found through Random Forest Classifier is : 63.12%\n"
     ]
    }
   ],
   "source": [
    "from sklearn.ensemble import RandomForestClassifier\n",
    "randomForestclf = RandomForestClassifier(n_estimators = 100) \n",
    "randomForestclf.fit(X_train, y_train)\n",
    "y_pred = randomForestclf.predict(X_test)\n",
    "randomforestaccuracy=accuracy_score(y_true=y_test, y_pred=y_pred)\n",
    "print(\"Accuracy found through Random Forest Classifier is : {:.2f}%\".format(randomforestaccuracy*100))"
   ]
  },
  {
   "cell_type": "code",
   "execution_count": 29,
   "metadata": {},
   "outputs": [
    {
     "name": "stdout",
     "output_type": "stream",
     "text": [
      "Accuracy found through Naive Bayes Classifier is : 38.83%\n"
     ]
    }
   ],
   "source": [
    "from sklearn.naive_bayes import GaussianNB\n",
    "nbclassifier = GaussianNB()\n",
    "nbclassifier.fit(X_train, y_train)\n",
    "y_pred  = nbclassifier.predict(X_test)\n",
    "nbclassifieraccuracy=accuracy_score(y_true=y_test, y_pred=y_pred)\n",
    "print(\"Accuracy found through Naive Bayes Classifier is : {:.2f}%\".format(nbclassifieraccuracy*100))"
   ]
  },
  {
   "cell_type": "code",
   "execution_count": 30,
   "metadata": {},
   "outputs": [
    {
     "name": "stdout",
     "output_type": "stream",
     "text": [
      "Accuracy found through Naive Bayes Classifier is : 38.83%\n"
     ]
    }
   ],
   "source": [
    "from sklearn.neighbors import KNeighborsClassifier\n",
    "knn = KNeighborsClassifier(n_neighbors = 5)\n",
    "knn.fit(X_train, y_train)\n",
    "y_pred  = nbclassifier.predict(X_test)\n",
    "KNeighborsClassifier=accuracy_score(y_true=y_test, y_pred=y_pred)\n",
    "print(\"Accuracy found through Naive Bayes Classifier is : {:.2f}%\".format(KNeighborsClassifier*100))"
   ]
  },
  {
   "cell_type": "code",
   "execution_count": 31,
   "metadata": {},
   "outputs": [],
   "source": [
    "import pickle\n",
    "modelname = \"speechemotionclassifier\"\n",
    "pickle.dump(grid,open(modelname,\"wb\"))"
   ]
  }
 ],
 "metadata": {
  "kernelspec": {
   "display_name": "FYP-env",
   "language": "python",
   "name": "fyp-env"
  },
  "language_info": {
   "codemirror_mode": {
    "name": "ipython",
    "version": 3
   },
   "file_extension": ".py",
   "mimetype": "text/x-python",
   "name": "python",
   "nbconvert_exporter": "python",
   "pygments_lexer": "ipython3",
   "version": "3.8.10"
  }
 },
 "nbformat": 4,
 "nbformat_minor": 2
}
