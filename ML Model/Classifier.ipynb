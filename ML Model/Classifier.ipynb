{
 "cells": [
  {
   "cell_type": "markdown",
   "metadata": {
    "id": "bXIU3uDkRKe9",
    "tags": []
   },
   "source": [
    "### Speech Emotion Classifier "
   ]
  },
  {
   "cell_type": "code",
   "execution_count": 1,
   "metadata": {
    "id": "9fv3fd1lw5Ed"
   },
   "outputs": [
    {
     "name": "stdout",
     "output_type": "stream",
     "text": [
      "Folder path located!\n"
     ]
    }
   ],
   "source": [
    "datasetpath = ''\n",
    "try:\n",
    "  datasetpath=(\"NewDataset/\")\n",
    "  print(\"Folder path located!\")\n",
    "except FileNotFoundError:\n",
    "  print(\"Error locating the path!\")\n"
   ]
  },
  {
   "cell_type": "markdown",
   "metadata": {},
   "source": [
    "### Importing Necessary Libraries "
   ]
  },
  {
   "cell_type": "code",
   "execution_count": 2,
   "metadata": {
    "id": "HiJhihNtxQXC"
   },
   "outputs": [],
   "source": [
    "import librosa\n",
    "import soundfile as sf\n",
    "import os, glob, pickle\n",
    "import numpy as np\n",
    "from sklearn.model_selection import train_test_split\n",
    "from sklearn.neural_network import MLPClassifier\n",
    "from sklearn.metrics import accuracy_score"
   ]
  },
  {
   "cell_type": "markdown",
   "metadata": {},
   "source": [
    "### Listing The Subdirectories of my dataset"
   ]
  },
  {
   "cell_type": "code",
   "execution_count": 3,
   "metadata": {
    "colab": {
     "base_uri": "https://localhost:8080/"
    },
    "id": "YoMuPE3UxRUN",
    "outputId": "b0cb3435-2d5e-42c3-b6a4-7b97ce165ab9"
   },
   "outputs": [
    {
     "data": {
      "text/plain": [
       "['Anger', 'Disgust', 'Fear', 'Happy', 'Neutral', 'Sad', 'Surprise']"
      ]
     },
     "execution_count": 3,
     "metadata": {},
     "output_type": "execute_result"
    }
   ],
   "source": [
    "os.listdir(datasetpath)"
   ]
  },
  {
   "cell_type": "markdown",
   "metadata": {
    "id": "Ifhwh45Gybaf"
   },
   "source": [
    "### Feature Extraction "
   ]
  },
  {
   "cell_type": "markdown",
   "metadata": {},
   "source": [
    "##### The below below function extracts mfcc features from the sound file"
   ]
  },
  {
   "cell_type": "code",
   "execution_count": 4,
   "metadata": {
    "id": "p7jeEfvfydpw"
   },
   "outputs": [],
   "source": [
    "def extract_feature(file_name, mfcc, chroma, mel):\n",
    "    with sf.SoundFile(file_name) as sound_file:\n",
    "        X = sound_file.read(dtype=\"float32\")\n",
    "        sample_rate=sound_file.samplerate\n",
    "        if chroma:\n",
    "            stft=np.abs(librosa.stft(X))\n",
    "        result=np.array([])\n",
    "        if mfcc:\n",
    "            mfccs=np.mean(librosa.feature.mfcc(y=X, sr=sample_rate, n_mfcc=40).T, axis=0)\n",
    "            result=np.hstack((result, mfccs))\n",
    "        if chroma:\n",
    "            chroma=np.mean(librosa.feature.chroma_stft(S=stft, sr=sample_rate).T,axis=0)\n",
    "            result=np.hstack((result, chroma))\n",
    "        if mel:\n",
    "            mel=np.mean(librosa.feature.melspectrogram(X, sr=sample_rate).T,axis=0)\n",
    "            result=np.hstack((result, mel))\n",
    "    \n",
    "    return result"
   ]
  },
  {
   "cell_type": "markdown",
   "metadata": {},
   "source": [
    "### Labelling The Emotions of the Sample"
   ]
  },
  {
   "cell_type": "code",
   "execution_count": 5,
   "metadata": {
    "colab": {
     "base_uri": "https://localhost:8080/",
     "height": 35
    },
    "id": "sc7ng4np6h-E",
    "outputId": "3d8c2288-0ab6-436a-b813-59a749e6c865"
   },
   "outputs": [],
   "source": [
    "\n",
    "def findEmotion(filename): \n",
    "      if filename[:1] == \"a\" :\n",
    "          return \"Anger\"\n",
    "      \n",
    "      elif filename[:1] == \"f\" :\n",
    "          return \"Fear\"\n",
    "        \n",
    "      elif filename[:1] == \"h\" :\n",
    "          return \"Happy\"\n",
    "        \n",
    "      elif filename[:1] == \"n\" :\n",
    "          return \"Neutral\"\n",
    "        \n",
    "      elif filename[:1] == \"s\" :\n",
    "          if filename[:2] == \"sa\" :\n",
    "              return \"Sad\"              \n",
    "          else : \n",
    "              return \"Surprised\"\n",
    "      else : \n",
    "          return \"Disgust\""
   ]
  },
  {
   "cell_type": "markdown",
   "metadata": {},
   "source": [
    "### Loading The Dataset for Feature Extraction"
   ]
  },
  {
   "cell_type": "code",
   "execution_count": 6,
   "metadata": {
    "colab": {
     "base_uri": "https://localhost:8080/"
    },
    "id": "6gAxOblxyS6t",
    "outputId": "3aa0ca2e-8863-477e-eda0-da800f55c2c8"
   },
   "outputs": [],
   "source": [
    "subs = os.listdir(datasetpath)\n",
    "x,y=[],[]\n",
    "def load_samples(test_size=0.2):\n",
    "  audiosamples = []\n",
    "  emotion = []\n",
    "  for sub in  subs: \n",
    "    for soundfile in glob.glob(datasetpath + sub + \"/*.wav\"):      \n",
    "      file_name=os.path.basename(soundfile)\n",
    "      emotion = findEmotion(file_name)\n",
    "      audiosamples.append(file_name)\n",
    "      feature = extract_feature(soundfile, mfcc=True, chroma=True, mel=True)\n",
    "      x.append(feature)\n",
    "      y.append(emotion)\n",
    "  return train_test_split(np.array(x), y, test_size=test_size, random_state=9)"
   ]
  },
  {
   "cell_type": "markdown",
   "metadata": {},
   "source": [
    "### Calling the Function For Feature Extraction "
   ]
  },
  {
   "cell_type": "markdown",
   "metadata": {},
   "source": [
    "### A look into our classifier classes "
   ]
  },
  {
   "cell_type": "code",
   "execution_count": 7,
   "metadata": {
    "colab": {
     "base_uri": "https://localhost:8080/"
    },
    "id": "HbMWUCPjQRyD",
    "outputId": "98cfe097-3500-4298-bbb5-dc391c0d1f63"
   },
   "outputs": [
    {
     "data": {
      "text/plain": [
       "set()"
      ]
     },
     "execution_count": 7,
     "metadata": {},
     "output_type": "execute_result"
    }
   ],
   "source": [
    "set(y)"
   ]
  },
  {
   "cell_type": "markdown",
   "metadata": {},
   "source": [
    "<hr>"
   ]
  },
  {
   "cell_type": "markdown",
   "metadata": {},
   "source": [
    "## ML Model "
   ]
  },
  {
   "cell_type": "markdown",
   "metadata": {},
   "source": [
    "This segment of the file works on building an ML model using various classifier and testing the accuracy. "
   ]
  },
  {
   "cell_type": "code",
   "execution_count": 8,
   "metadata": {
    "colab": {
     "base_uri": "https://localhost:8080/"
    },
    "id": "wlIOp9KIIerq",
    "outputId": "980b35c2-549e-4045-f507-dc1822e39970"
   },
   "outputs": [],
   "source": [
    "x_train,x_test,y_train,y_test=load_samples(test_size=0.25)"
   ]
  },
  {
   "cell_type": "code",
   "execution_count": 28,
   "metadata": {},
   "outputs": [],
   "source": [
    "import pandas as pd\n",
    "x_train\n",
    "pd.DataFrame(x_train).to_csv('features.csv')\n",
    "pd.DataFrame(y_train).to_csv('emotionclasses.csv')"
   ]
  },
  {
   "cell_type": "code",
   "execution_count": 29,
   "metadata": {},
   "outputs": [
    {
     "name": "stdout",
     "output_type": "stream",
     "text": [
      "     Unnamed: 0Features   0Features           1          2          3  \\\n",
      "0                     0 -302.414612  107.463562   7.931349  31.805050   \n",
      "1                     1 -449.374939  133.274170  25.462761  35.235252   \n",
      "2                     2 -446.050995  139.719437  38.104706  24.253126   \n",
      "3                     3 -395.017517   93.677269  16.260586  34.029671   \n",
      "4                     4 -610.346680  124.946060  23.505457  24.790319   \n",
      "..                  ...         ...         ...        ...        ...   \n",
      "355                 355 -596.079285  133.538742  32.895496  27.255610   \n",
      "356                 356 -376.958344   81.351189   7.455905  37.361153   \n",
      "357                 357 -338.724823  119.830879  28.849352  23.962114   \n",
      "358                 358 -439.126495  123.436203  25.393318  38.707325   \n",
      "359                 359 -460.370300  115.886818  34.241615  40.091694   \n",
      "\n",
      "             4          5         6          7          8  ...           172  \\\n",
      "0    18.983475  -8.241529 -3.613688  -4.850150   0.809062  ...  3.237828e-06   \n",
      "1    25.641834   5.625569  9.837969  -2.786216  -6.979046  ...  6.667170e-09   \n",
      "2    32.157887  21.516407  2.246566 -13.046095  -2.803694  ...  6.980287e-09   \n",
      "3    25.819715   6.407387  6.364968  -9.132155  -6.743944  ...  6.633432e-09   \n",
      "4    29.237246  10.862293  1.070242  -8.717100  -5.938201  ...  6.250847e-09   \n",
      "..         ...        ...       ...        ...        ...  ...           ...   \n",
      "355  32.181087  12.766466  0.723480  -5.710806  -5.295207  ...  6.668808e-09   \n",
      "356  24.394629   4.724364  7.157444 -10.771781  -7.011039  ...  5.576830e-08   \n",
      "357  22.035284  13.913758  5.098230 -18.377167 -11.919321  ...  1.557711e-08   \n",
      "358  32.719002  -1.020570 -5.674720  -0.013360   1.148340  ...  6.733686e-09   \n",
      "359  29.045603   7.260158  2.855310  -6.818048  -4.072138  ...  6.586654e-09   \n",
      "\n",
      "              173           174           175           176           177  \\\n",
      "0    2.078095e-06  1.611002e-06  1.499869e-06  1.282832e-06  9.852871e-07   \n",
      "1    6.367733e-09  6.481627e-09  6.270041e-09  6.425129e-09  6.322053e-09   \n",
      "2    6.593051e-09  6.369009e-09  6.362706e-09  6.299419e-09  6.332445e-09   \n",
      "3    6.907695e-09  6.680648e-09  6.567935e-09  7.890765e-09  7.325193e-09   \n",
      "4    6.238619e-09  6.204993e-09  6.086385e-09  5.904728e-09  5.711316e-09   \n",
      "..            ...           ...           ...           ...           ...   \n",
      "355  6.513557e-09  6.239358e-09  6.102061e-09  5.645164e-09  5.843612e-09   \n",
      "356  3.921960e-08  2.381702e-08  1.646267e-08  1.796948e-08  2.155215e-08   \n",
      "357  1.548515e-08  1.269349e-08  1.123360e-08  1.248907e-08  1.185832e-08   \n",
      "358  6.346826e-09  6.430965e-09  6.413037e-09  6.496052e-09  6.404722e-09   \n",
      "359  6.415647e-09  6.369788e-09  6.240140e-09  6.381327e-09  6.150207e-09   \n",
      "\n",
      "              178           179  Unnamed: 0Emotionclasses  0Emotionclasses  \n",
      "0    9.025397e-07  8.579410e-07                         0            Happy  \n",
      "1    6.216166e-09  6.413513e-09                         1          Disgust  \n",
      "2    6.265398e-09  6.361287e-09                         2          Neutral  \n",
      "3    6.601905e-09  5.935993e-09                         3        Surprised  \n",
      "4    5.993224e-09  6.355960e-09                         4            Happy  \n",
      "..            ...           ...                       ...              ...  \n",
      "355  5.834372e-09  6.365321e-09                       355            Anger  \n",
      "356  2.148021e-08  1.817627e-08                       356        Surprised  \n",
      "357  1.142795e-08  9.810337e-09                       357             Fear  \n",
      "358  6.224643e-09  6.382637e-09                       358          Neutral  \n",
      "359  6.019759e-09  6.153656e-09                       359              Sad  \n",
      "\n",
      "[360 rows x 183 columns]\n"
     ]
    }
   ],
   "source": [
    "# reading two csv files\n",
    "data1 = pd.read_csv('features.csv')\n",
    "data2 = pd.read_csv('emotionclasses.csv')\n",
    "  \n",
    "# using merge function by setting how='inner'\n",
    "output1 = data1.join(data2, lsuffix=\"Features\", rsuffix=\"Emotionclasses\")\n",
    "  \n",
    "# displaying result\n",
    "print(output1)\n",
    "\n",
    "pd.DataFrame(output1).to_csv('df.csv')"
   ]
  },
  {
   "cell_type": "code",
   "execution_count": 10,
   "metadata": {},
   "outputs": [
    {
     "data": {
      "text/plain": [
       "(120, 180)"
      ]
     },
     "execution_count": 10,
     "metadata": {},
     "output_type": "execute_result"
    }
   ],
   "source": [
    "x_test.shape"
   ]
  },
  {
   "cell_type": "markdown",
   "metadata": {},
   "source": [
    "#### Checking the shape of the training and testing datasets"
   ]
  },
  {
   "cell_type": "code",
   "execution_count": 11,
   "metadata": {
    "colab": {
     "base_uri": "https://localhost:8080/"
    },
    "id": "S4ZaK2zNJY5q",
    "outputId": "2b5fab0f-25d0-41b1-e0fd-76e01190fe82"
   },
   "outputs": [
    {
     "name": "stdout",
     "output_type": "stream",
     "text": [
      "(360, 120)\n"
     ]
    }
   ],
   "source": [
    "print((x_train.shape[0], x_test.shape[0]))"
   ]
  },
  {
   "cell_type": "markdown",
   "metadata": {},
   "source": [
    "#### Features of the sound samples"
   ]
  },
  {
   "cell_type": "code",
   "execution_count": 12,
   "metadata": {
    "colab": {
     "base_uri": "https://localhost:8080/"
    },
    "id": "s0G4oWsaJeJq",
    "outputId": "766af112-4911-4109-c0c3-8892967ffd5c"
   },
   "outputs": [
    {
     "name": "stdout",
     "output_type": "stream",
     "text": [
      "Features extracted: 180\n"
     ]
    }
   ],
   "source": [
    "print(f'Features extracted: {x_train.shape[1]}')"
   ]
  },
  {
   "cell_type": "markdown",
   "metadata": {},
   "source": [
    "### Multi Layer Perceptron Classifier"
   ]
  },
  {
   "cell_type": "code",
   "execution_count": 13,
   "metadata": {
    "id": "ehs2ERx_JjjN"
   },
   "outputs": [
    {
     "name": "stdout",
     "output_type": "stream",
     "text": [
      "Accuracy found through MLP Classifier is : 62.50%\n"
     ]
    }
   ],
   "source": [
    "model=MLPClassifier(alpha=0.01, \n",
    "                    batch_size=256, \n",
    "                    epsilon=1e-08, \n",
    "                    hidden_layer_sizes=(300,), \n",
    "                    learning_rate='adaptive', \n",
    "                    max_iter=500)\n",
    "model.fit(x_train,y_train)\n",
    "y_pred=model.predict(x_test)\n",
    "accuracy=accuracy_score(y_true=y_test, y_pred=y_pred)\n",
    "print(\"Accuracy found through MLP Classifier is : {:.2f}%\".format(accuracy*100))"
   ]
  },
  {
   "cell_type": "markdown",
   "metadata": {},
   "source": [
    "#### SVM Classifier "
   ]
  },
  {
   "cell_type": "code",
   "execution_count": 14,
   "metadata": {},
   "outputs": [
    {
     "name": "stdout",
     "output_type": "stream",
     "text": [
      "Accuracy found through SVM Classifier is : 61.67%\n"
     ]
    }
   ],
   "source": [
    "from sklearn.svm import SVC\n",
    "from sklearn.pipeline import make_pipeline\n",
    "from sklearn.preprocessing import StandardScaler\n",
    "svmclf = make_pipeline(StandardScaler(), SVC(gamma='auto'))\n",
    "svmclf.fit(x_train,y_train)\n",
    "y_pred=svmclf.predict(x_test)\n",
    "svmaccuracy=accuracy_score(y_true=y_test, y_pred=y_pred)\n",
    "print(\"Accuracy found through SVM Classifier is : {:.2f}%\".format(svmaccuracy*100))"
   ]
  },
  {
   "cell_type": "markdown",
   "metadata": {},
   "source": [
    "### Random Forest Classifier "
   ]
  },
  {
   "cell_type": "code",
   "execution_count": 15,
   "metadata": {},
   "outputs": [
    {
     "name": "stdout",
     "output_type": "stream",
     "text": [
      "Accuracy found through SVM Classifier is : 66.67%\n"
     ]
    }
   ],
   "source": [
    "from sklearn.ensemble import RandomForestClassifier\n",
    "randomForestclf = RandomForestClassifier(n_estimators = 100) \n",
    "randomForestclf.fit(x_train, y_train)\n",
    "y_pred = randomForestclf.predict(x_test)\n",
    "randomforestaccuracy=accuracy_score(y_true=y_test, y_pred=y_pred)\n",
    "print(\"Accuracy found through SVM Classifier is : {:.2f}%\".format(randomforestaccuracy*100))"
   ]
  },
  {
   "cell_type": "markdown",
   "metadata": {},
   "source": [
    "### Naive Bayes Classifier "
   ]
  },
  {
   "cell_type": "code",
   "execution_count": 16,
   "metadata": {},
   "outputs": [
    {
     "name": "stdout",
     "output_type": "stream",
     "text": [
      "Accuracy found through Naive Bayes Classifier is : 47.50%\n"
     ]
    }
   ],
   "source": [
    "from sklearn.naive_bayes import GaussianNB\n",
    "nbclassifier = GaussianNB()\n",
    "nbclassifier.fit(x_train, y_train)\n",
    "y_pred  = nbclassifier.predict(x_test)\n",
    "nbclassifieraccuracy=accuracy_score(y_true=y_test, y_pred=y_pred)\n",
    "print(\"Accuracy found through Naive Bayes Classifier is : {:.2f}%\".format(nbclassifieraccuracy*100))"
   ]
  },
  {
   "cell_type": "markdown",
   "metadata": {},
   "source": [
    "<hr>"
   ]
  },
  {
   "cell_type": "markdown",
   "metadata": {},
   "source": [
    "###### Here we can see that Random Forest Algorithm Provides the Best Accuracy Result "
   ]
  },
  {
   "cell_type": "markdown",
   "metadata": {},
   "source": [
    "<br>"
   ]
  },
  {
   "cell_type": "markdown",
   "metadata": {},
   "source": [
    "## Exporting The Model"
   ]
  },
  {
   "cell_type": "code",
   "execution_count": 17,
   "metadata": {},
   "outputs": [],
   "source": [
    "import pickle\n",
    "modelname = \"speechemotionclassifier\"\n",
    "pickle.dump(randomForestclf,open(modelname,\"wb\"))"
   ]
  }
 ],
 "metadata": {
  "accelerator": "GPU",
  "colab": {
   "name": "Speech Emotion Detection",
   "provenance": []
  },
  "kernelspec": {
   "display_name": "Python 3 (ipykernel)",
   "language": "python",
   "name": "python3"
  },
  "language_info": {
   "codemirror_mode": {
    "name": "ipython",
    "version": 3
   },
   "file_extension": ".py",
   "mimetype": "text/x-python",
   "name": "python",
   "nbconvert_exporter": "python",
   "pygments_lexer": "ipython3",
   "version": "3.9.7"
  }
 },
 "nbformat": 4,
 "nbformat_minor": 4
}
