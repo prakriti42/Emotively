{
 "cells": [
  {
   "cell_type": "markdown",
   "metadata": {
    "id": "bXIU3uDkRKe9"
   },
   "source": [
    "### Speech Emotion Classifier "
   ]
  },
  {
   "cell_type": "code",
   "execution_count": 1,
   "metadata": {
    "id": "9fv3fd1lw5Ed"
   },
   "outputs": [
    {
     "name": "stdout",
     "output_type": "stream",
     "text": [
      "Folder path located!\n"
     ]
    }
   ],
   "source": [
    "datasetpath = ''\n",
    "try:\n",
    "  datasetpath=(\"NewDataset/\")\n",
    "  print(\"Folder path located!\")\n",
    "except FileNotFoundError:\n",
    "  print(\"Error locating the path!\")\n"
   ]
  },
  {
   "cell_type": "markdown",
   "metadata": {},
   "source": [
    "### Importing Necessary Libraries "
   ]
  },
  {
   "cell_type": "code",
   "execution_count": 2,
   "metadata": {
    "id": "HiJhihNtxQXC"
   },
   "outputs": [],
   "source": [
    "import librosa\n",
    "import soundfile as sf\n",
    "import os, glob, pickle\n",
    "import numpy as np\n",
    "from sklearn.model_selection import train_test_split\n",
    "from sklearn.neural_network import MLPClassifier\n",
    "from sklearn.metrics import accuracy_score"
   ]
  },
  {
   "cell_type": "markdown",
   "metadata": {},
   "source": [
    "### Listing The Subdirectories of my dataset"
   ]
  },
  {
   "cell_type": "code",
   "execution_count": 3,
   "metadata": {
    "colab": {
     "base_uri": "https://localhost:8080/"
    },
    "id": "YoMuPE3UxRUN",
    "outputId": "b0cb3435-2d5e-42c3-b6a4-7b97ce165ab9"
   },
   "outputs": [
    {
     "data": {
      "text/plain": [
       "['Anger', 'Disgust', 'Fear', 'Happy', 'Neutral', 'Sad', 'Surprise']"
      ]
     },
     "execution_count": 3,
     "metadata": {},
     "output_type": "execute_result"
    }
   ],
   "source": [
    "os.listdir(datasetpath)"
   ]
  },
  {
   "cell_type": "markdown",
   "metadata": {
    "id": "Ifhwh45Gybaf"
   },
   "source": [
    "### Feature Extraction "
   ]
  },
  {
   "cell_type": "markdown",
   "metadata": {},
   "source": [
    "##### The below below function extracts mfcc features from the sound file"
   ]
  },
  {
   "cell_type": "code",
   "execution_count": 4,
   "metadata": {
    "id": "p7jeEfvfydpw"
   },
   "outputs": [],
   "source": [
    "def extract_feature(file_name, mfcc, chroma, mel):\n",
    "    with sf.SoundFile(file_name) as sound_file:\n",
    "        X = sound_file.read(dtype=\"float32\")\n",
    "        sample_rate=sound_file.samplerate\n",
    "        if chroma:\n",
    "            stft=np.abs(librosa.stft(X))\n",
    "        result=np.array([])\n",
    "        if mfcc:\n",
    "            mfccs=np.mean(librosa.feature.mfcc(y=X, sr=sample_rate, n_mfcc=40).T, axis=0)\n",
    "            result=np.hstack((result, mfccs))\n",
    "        if chroma:\n",
    "            chroma=np.mean(librosa.feature.chroma_stft(S=stft, sr=sample_rate).T,axis=0)\n",
    "            result=np.hstack((result, chroma))\n",
    "        if mel:\n",
    "            mel=np.mean(librosa.feature.melspectrogram(X, sr=sample_rate).T,axis=0)\n",
    "            result=np.hstack((result, mel))\n",
    "    \n",
    "    return result"
   ]
  },
  {
   "cell_type": "markdown",
   "metadata": {},
   "source": [
    "### Labelling The Emotions of the Sample"
   ]
  },
  {
   "cell_type": "code",
   "execution_count": 5,
   "metadata": {
    "colab": {
     "base_uri": "https://localhost:8080/",
     "height": 35
    },
    "id": "sc7ng4np6h-E",
    "outputId": "3d8c2288-0ab6-436a-b813-59a749e6c865"
   },
   "outputs": [],
   "source": [
    "\n",
    "def findEmotion(filename): \n",
    "      if filename[:1] == \"a\" :\n",
    "          return \"Anger\"\n",
    "      \n",
    "      elif filename[:1] == \"f\" :\n",
    "          return \"Fear\"\n",
    "        \n",
    "      elif filename[:1] == \"h\" :\n",
    "          return \"Happy\"\n",
    "        \n",
    "      elif filename[:1] == \"n\" :\n",
    "          return \"Neutral\"\n",
    "        \n",
    "      elif filename[:1] == \"s\" :\n",
    "          if filename[:2] == \"sa\" :\n",
    "              return \"Sad\"              \n",
    "          else : \n",
    "              return \"Surprised\"\n",
    "      else : \n",
    "          return \"Disgust\""
   ]
  },
  {
   "cell_type": "markdown",
   "metadata": {},
   "source": [
    "### Loading The Dataset for Feature Extraction"
   ]
  },
  {
   "cell_type": "code",
   "execution_count": 6,
   "metadata": {
    "colab": {
     "base_uri": "https://localhost:8080/"
    },
    "id": "6gAxOblxyS6t",
    "outputId": "3aa0ca2e-8863-477e-eda0-da800f55c2c8"
   },
   "outputs": [],
   "source": [
    "subs = os.listdir(datasetpath)\n",
    "x,y=[],[]\n",
    "def load_samples(test_size=0.2):\n",
    "  audiosamples = []\n",
    "  emotion = []\n",
    "  for sub in  subs: \n",
    "    for soundfile in glob.glob(datasetpath + sub + \"/*.wav\"):      \n",
    "      file_name=os.path.basename(soundfile)\n",
    "      emotion = findEmotion(file_name)\n",
    "      audiosamples.append(file_name)\n",
    "      feature = extract_feature(soundfile, mfcc=True, chroma=True, mel=True)\n",
    "      x.append(feature)\n",
    "      y.append(emotion)\n",
    "  return train_test_split(np.array(x), y, test_size=test_size, random_state=9)"
   ]
  },
  {
   "cell_type": "markdown",
   "metadata": {},
   "source": [
    "### Calling the Function For Feature Extraction "
   ]
  },
  {
   "cell_type": "markdown",
   "metadata": {},
   "source": [
    "### A look into our classifier classes "
   ]
  },
  {
   "cell_type": "code",
   "execution_count": 8,
   "metadata": {
    "colab": {
     "base_uri": "https://localhost:8080/"
    },
    "id": "HbMWUCPjQRyD",
    "outputId": "98cfe097-3500-4298-bbb5-dc391c0d1f63"
   },
   "outputs": [
    {
     "data": {
      "text/plain": [
       "{'Anger', 'Disgust', 'Fear', 'Happy', 'Neutral', 'Sad', 'Surprised'}"
      ]
     },
     "execution_count": 8,
     "metadata": {},
     "output_type": "execute_result"
    }
   ],
   "source": [
    "set(y)"
   ]
  },
  {
   "cell_type": "markdown",
   "metadata": {},
   "source": [
    "<hr>"
   ]
  },
  {
   "cell_type": "markdown",
   "metadata": {},
   "source": [
    "## ML Model "
   ]
  },
  {
   "cell_type": "markdown",
   "metadata": {},
   "source": [
    "This segment of the file works on building an ML model using various classifier and testing the accuracy. "
   ]
  },
  {
   "cell_type": "code",
   "execution_count": 9,
   "metadata": {
    "colab": {
     "base_uri": "https://localhost:8080/"
    },
    "id": "wlIOp9KIIerq",
    "outputId": "980b35c2-549e-4045-f507-dc1822e39970"
   },
   "outputs": [],
   "source": [
    "x_train,x_test,y_train,y_test=load_samples(test_size=0.25)"
   ]
  },
  {
   "cell_type": "code",
   "execution_count": 19,
   "metadata": {},
   "outputs": [
    {
     "data": {
      "text/plain": [
       "(240, 180)"
      ]
     },
     "execution_count": 19,
     "metadata": {},
     "output_type": "execute_result"
    }
   ],
   "source": [
    "x_test.shape"
   ]
  },
  {
   "cell_type": "markdown",
   "metadata": {},
   "source": [
    "#### Checking the shape of the training and testing datasets"
   ]
  },
  {
   "cell_type": "code",
   "execution_count": 10,
   "metadata": {
    "colab": {
     "base_uri": "https://localhost:8080/"
    },
    "id": "S4ZaK2zNJY5q",
    "outputId": "2b5fab0f-25d0-41b1-e0fd-76e01190fe82"
   },
   "outputs": [
    {
     "name": "stdout",
     "output_type": "stream",
     "text": [
      "(720, 240)\n"
     ]
    }
   ],
   "source": [
    "print((x_train.shape[0], x_test.shape[0]))"
   ]
  },
  {
   "cell_type": "markdown",
   "metadata": {},
   "source": [
    "#### Features of the sound samples"
   ]
  },
  {
   "cell_type": "code",
   "execution_count": 11,
   "metadata": {
    "colab": {
     "base_uri": "https://localhost:8080/"
    },
    "id": "s0G4oWsaJeJq",
    "outputId": "766af112-4911-4109-c0c3-8892967ffd5c"
   },
   "outputs": [
    {
     "name": "stdout",
     "output_type": "stream",
     "text": [
      "Features extracted: 180\n"
     ]
    }
   ],
   "source": [
    "print(f'Features extracted: {x_train.shape[1]}')"
   ]
  },
  {
   "cell_type": "markdown",
   "metadata": {},
   "source": [
    "### Multi Layer Perceptron Classifier"
   ]
  },
  {
   "cell_type": "code",
   "execution_count": 12,
   "metadata": {
    "id": "ehs2ERx_JjjN"
   },
   "outputs": [
    {
     "name": "stdout",
     "output_type": "stream",
     "text": [
      "Accuracy found through MLP Classifier is : 85.00%\n"
     ]
    }
   ],
   "source": [
    "model=MLPClassifier(alpha=0.01, \n",
    "                    batch_size=256, \n",
    "                    epsilon=1e-08, \n",
    "                    hidden_layer_sizes=(300,), \n",
    "                    learning_rate='adaptive', \n",
    "                    max_iter=500)\n",
    "model.fit(x_train,y_train)\n",
    "y_pred=model.predict(x_test)\n",
    "accuracy=accuracy_score(y_true=y_test, y_pred=y_pred)\n",
    "print(\"Accuracy found through MLP Classifier is : {:.2f}%\".format(accuracy*100))"
   ]
  },
  {
   "cell_type": "markdown",
   "metadata": {},
   "source": [
    "#### SVM Classifier "
   ]
  },
  {
   "cell_type": "code",
   "execution_count": 13,
   "metadata": {},
   "outputs": [
    {
     "name": "stdout",
     "output_type": "stream",
     "text": [
      "Accuracy found through SVM Classifier is : 72.50%\n"
     ]
    }
   ],
   "source": [
    "from sklearn.svm import SVC\n",
    "from sklearn.pipeline import make_pipeline\n",
    "from sklearn.preprocessing import StandardScaler\n",
    "svmclf = make_pipeline(StandardScaler(), SVC(gamma='auto'))\n",
    "svmclf.fit(x_train,y_train)\n",
    "y_pred=svmclf.predict(x_test)\n",
    "svmaccuracy=accuracy_score(y_true=y_test, y_pred=y_pred)\n",
    "print(\"Accuracy found through SVM Classifier is : {:.2f}%\".format(svmaccuracy*100))"
   ]
  },
  {
   "cell_type": "markdown",
   "metadata": {},
   "source": [
    "### Random Forest Classifier "
   ]
  },
  {
   "cell_type": "code",
   "execution_count": 14,
   "metadata": {},
   "outputs": [
    {
     "name": "stdout",
     "output_type": "stream",
     "text": [
      "Accuracy found through SVM Classifier is : 88.33%\n"
     ]
    }
   ],
   "source": [
    "from sklearn.ensemble import RandomForestClassifier\n",
    "randomForestclf = RandomForestClassifier(n_estimators = 100) \n",
    "randomForestclf.fit(x_train, y_train)\n",
    "y_pred = randomForestclf.predict(x_test)\n",
    "randomforestaccuracy=accuracy_score(y_true=y_test, y_pred=y_pred)\n",
    "print(\"Accuracy found through SVM Classifier is : {:.2f}%\".format(randomforestaccuracy*100))"
   ]
  },
  {
   "cell_type": "markdown",
   "metadata": {},
   "source": [
    "### Naive Bayes Classifier "
   ]
  },
  {
   "cell_type": "code",
   "execution_count": 15,
   "metadata": {},
   "outputs": [
    {
     "name": "stdout",
     "output_type": "stream",
     "text": [
      "Accuracy found through Naive Bayes Classifier is : 46.67%\n"
     ]
    }
   ],
   "source": [
    "from sklearn.naive_bayes import GaussianNB\n",
    "nbclassifier = GaussianNB()\n",
    "nbclassifier.fit(x_train, y_train)\n",
    "y_pred  = nbclassifier.predict(x_test)\n",
    "nbclassifieraccuracy=accuracy_score(y_true=y_test, y_pred=y_pred)\n",
    "print(\"Accuracy found through Naive Bayes Classifier is : {:.2f}%\".format(nbclassifieraccuracy*100))"
   ]
  },
  {
   "cell_type": "markdown",
   "metadata": {},
   "source": [
    "<hr>"
   ]
  },
  {
   "cell_type": "markdown",
   "metadata": {},
   "source": [
    "###### Here we can see that Random Forest Algorithm Provides the Best Accuracy Result "
   ]
  },
  {
   "cell_type": "markdown",
   "metadata": {},
   "source": [
    "<br>"
   ]
  },
  {
   "cell_type": "markdown",
   "metadata": {},
   "source": [
    "## Exporting The Model"
   ]
  },
  {
   "cell_type": "code",
   "execution_count": 16,
   "metadata": {},
   "outputs": [],
   "source": [
    "import pickle\n",
    "modelname = \"speechemotionclassifier\"\n",
    "pickle.dump(randomForestclf,open(modelname,\"wb\"))"
   ]
  }
 ],
 "metadata": {
  "accelerator": "GPU",
  "colab": {
   "name": "Speech Emotion Detection",
   "provenance": []
  },
  "kernelspec": {
   "display_name": "Python 3 (ipykernel)",
   "language": "python",
   "name": "python3"
  },
  "language_info": {
   "codemirror_mode": {
    "name": "ipython",
    "version": 3
   },
   "file_extension": ".py",
   "mimetype": "text/x-python",
   "name": "python",
   "nbconvert_exporter": "python",
   "pygments_lexer": "ipython3",
   "version": "3.9.7"
  }
 },
 "nbformat": 4,
 "nbformat_minor": 4
}
